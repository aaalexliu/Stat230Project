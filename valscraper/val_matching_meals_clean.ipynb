{
 "cells": [
  {
   "cell_type": "markdown",
   "metadata": {},
   "source": [
    "## SETUP"
   ]
  },
  {
   "cell_type": "code",
   "execution_count": 4,
   "metadata": {
    "collapsed": true
   },
   "outputs": [],
   "source": [
    "from fuzzywuzzy import fuzz\n",
    "from fuzzywuzzy import process\n",
    "import csv\n",
    "import pandas as pd\n",
    "import numpy as np\n",
    "import matplotlib.pyplot as plt\n",
    "import pickle as pkl\n",
    "from scipy.spatial.distance import pdist, squareform\n",
    "import seaborn as sns\n",
    "from collections import namedtuple\n",
    "\n",
    "##Matrix Grouping Code CREDIT TO erikm0111\n",
    "\n",
    "def sumRow(matrix, i):\n",
    "    return np.sum(matrix[i,:])\n",
    " \n",
    "def determineRow(matrix):\n",
    "    maxNumOfOnes = -1\n",
    "    row = -1\n",
    "    for i in range(len(matrix)):\n",
    "        if maxNumOfOnes < sumRow(matrix, i):\n",
    "            maxNumOfOnes = sumRow(matrix, i)\n",
    "            row = i\n",
    "    return row\n",
    " \n",
    "def addIntoGroup(matrix, ind):\n",
    "    change = True\n",
    "    indexes = []\n",
    "    for col in range(len(matrix)):\n",
    "        if matrix[ind, col] == 1:\n",
    "            indexes.append(col)\n",
    "    while change == True:\n",
    "        change = False\n",
    "        numIndexes = len(indexes)\n",
    "        for i in indexes:\n",
    "            for col in range(len(matrix)):\n",
    "                if matrix[i, col] == 1:\n",
    "                    if col not in indexes:\n",
    "                        indexes.append(col)\n",
    "        numIndexes2 = len(indexes)\n",
    "        if numIndexes != numIndexes2:\n",
    "            change = True\n",
    "    return indexes\n",
    " \n",
    "def deleteChosenRowsAndCols(matrix, indexes):\n",
    "    for i in indexes:\n",
    "        matrix[i,:] = 0\n",
    "        matrix[:,i] = 0\n",
    "    return matrix\n",
    "def categorizeIntoClusters(matrix):\n",
    "    groups = []\n",
    "    while np.sum(matrix) > 0:\n",
    "        group = []\n",
    "        row = determineRow(matrix)\n",
    "        indexes = addIntoGroup(matrix, row)\n",
    "        groups.append(indexes)\n",
    "        matrix = deleteChosenRowsAndCols(matrix, indexes)\n",
    "    return groups\n",
    "\n",
    "##Personal functions\n",
    "\n",
    "def buildThreshholdMatrix(prev, threshold):\n",
    "\tnumOfSamples = len(prev)\n",
    "\tmatrix = np.zeros(shape=(numOfSamples, numOfSamples))\n",
    "\tfor i in range(len(matrix)):\n",
    "\t\tfor j in range(len(matrix)):\n",
    "\t\t\tdist = prev[i,j]\n",
    "\t\t\tif dist > threshold:\n",
    "\t\t\t\tmatrix[i,j] = 1\n",
    "\treturn matrix\n",
    "\n",
    "def labelCluster(df, group, cluster):\n",
    "#     print(group)\n",
    "    for i in range(len(group)):\n",
    "        for j in range(len(group[i])):\n",
    "            df.loc[group[i][j],cluster] = i\n",
    "    return df\n",
    "\n",
    "def getClusterName(threshold):\n",
    "    return 'cluster_t{}'.format(i)\n",
    "        \n",
    "def addGroupsToDF(df, group, thresh):\n",
    "    cluster = getClusterName(thresh)\n",
    "    df[cluster] = 0\n",
    "    for i in range(len(group)):\n",
    "        for j in range(len(group[i])):\n",
    "            df.loc[group[i][j],cluster] = i\n",
    "    return df\n",
    "\n",
    "    \n",
    "def getTop(series, min):\n",
    "    common = series.value_counts()\n",
    "    counts = common.value_counts()\n",
    "    sorted = counts.sort_index()\n",
    "    num = 0\n",
    "    counts = []\n",
    "    end = 1\n",
    "    while num < min and end <= len(sorted):\n",
    "        num += sorted.iloc[-end]\n",
    "        counts.append(sorted.index[-end])\n",
    "        end+=1\n",
    "    label = ''\n",
    "    for count in counts:\n",
    "        label = label + ' ' + (' '.join(common[common == count].index.values))\n",
    "    return label\n",
    "\n",
    "def tagDF(df, cluster):\n",
    "    groups = df.groupby(cluster)\n",
    "    df_new = pd.DataFrame()\n",
    "    for name, group in groups:\n",
    "        df_new = df_new.append(getTag(group, cluster))\n",
    "    df_sorted = df_new.sort_index()\n",
    "    return df_sorted\n",
    "\n",
    "def getTag(group, cluster):\n",
    "#     print(pd.Series(' '.join(group['traditional'])))\n",
    "    series = pd.Series(' '.join(group['traditional']).lower().split())\n",
    "    tag = getTop(series, 6)\n",
    "#     print(tag)\n",
    "    new = group\n",
    "    head = 'tag_{}'.format(cluster)\n",
    "    new[head] = tag\n",
    "    return new"
   ]
  },
  {
   "cell_type": "markdown",
   "metadata": {},
   "source": [
    "## DATA INTRODUCTION"
   ]
  },
  {
   "cell_type": "code",
   "execution_count": 5,
   "metadata": {
    "collapsed": true
   },
   "outputs": [],
   "source": [
    "df = pd.read_csv(\"val_traditional_16-22-55.csv\")\n",
    "df = df.replace(np.nan, '', regex = True)"
   ]
  },
  {
   "cell_type": "code",
   "execution_count": 6,
   "metadata": {},
   "outputs": [
    {
     "data": {
      "text/html": [
       "<div>\n",
       "<style>\n",
       "    .dataframe thead tr:only-child th {\n",
       "        text-align: right;\n",
       "    }\n",
       "\n",
       "    .dataframe thead th {\n",
       "        text-align: left;\n",
       "    }\n",
       "\n",
       "    .dataframe tbody tr th {\n",
       "        vertical-align: top;\n",
       "    }\n",
       "</style>\n",
       "<table border=\"1\" class=\"dataframe\">\n",
       "  <thead>\n",
       "    <tr style=\"text-align: right;\">\n",
       "      <th></th>\n",
       "      <th>date</th>\n",
       "      <th>type</th>\n",
       "      <th>traditional</th>\n",
       "    </tr>\n",
       "  </thead>\n",
       "  <tbody>\n",
       "    <tr>\n",
       "      <th>0</th>\n",
       "      <td>2014-08-31</td>\n",
       "      <td>Breakfast</td>\n",
       "      <td>XXX Bacon; Cage Free Fried Egg; XXX Fresh Frui...</td>\n",
       "    </tr>\n",
       "    <tr>\n",
       "      <th>1</th>\n",
       "      <td>2014-08-31</td>\n",
       "      <td>Lunch</td>\n",
       "      <td>Apple Cranberry Chutney; Steamed Broccoli; Cag...</td>\n",
       "    </tr>\n",
       "    <tr>\n",
       "      <th>2</th>\n",
       "      <td>2014-08-31</td>\n",
       "      <td>Dinner</td>\n",
       "      <td>Delmonico Potatoes; Salmon; Gratin of Seasonal...</td>\n",
       "    </tr>\n",
       "    <tr>\n",
       "      <th>3</th>\n",
       "      <td>2014-09-01</td>\n",
       "      <td>Breakfast</td>\n",
       "      <td>XXX Bacon; French Dipped Waffles; Cage Free Fr...</td>\n",
       "    </tr>\n",
       "    <tr>\n",
       "      <th>4</th>\n",
       "      <td>2014-09-01</td>\n",
       "      <td>Lunch</td>\n",
       "      <td>Garlic and Herb Breadsticks; Steamed Broccoli;...</td>\n",
       "    </tr>\n",
       "    <tr>\n",
       "      <th>5</th>\n",
       "      <td>2014-09-01</td>\n",
       "      <td>Dinner</td>\n",
       "      <td>Beef Fajita Filling; Black Bean Frijoles; Tort...</td>\n",
       "    </tr>\n",
       "    <tr>\n",
       "      <th>6</th>\n",
       "      <td>2014-09-02</td>\n",
       "      <td>Breakfast</td>\n",
       "      <td>XXX Bacon; Grilled Kielbasa; Cage Free Hard Bo...</td>\n",
       "    </tr>\n",
       "    <tr>\n",
       "      <th>7</th>\n",
       "      <td>2014-09-02</td>\n",
       "      <td>Lunch</td>\n",
       "      <td>Asian Slaw; XXX Bulgogi (Korean BBQ Beef)</td>\n",
       "    </tr>\n",
       "    <tr>\n",
       "      <th>8</th>\n",
       "      <td>2014-09-02</td>\n",
       "      <td>Dinner</td>\n",
       "      <td>Grilled Flank Steak; Mediterranean Potatoes; P...</td>\n",
       "    </tr>\n",
       "    <tr>\n",
       "      <th>9</th>\n",
       "      <td>2014-09-03</td>\n",
       "      <td>Breakfast</td>\n",
       "      <td>XXX Bacon; French Toast; Cage Free Fried Egg; ...</td>\n",
       "    </tr>\n",
       "    <tr>\n",
       "      <th>10</th>\n",
       "      <td>2014-09-03</td>\n",
       "      <td>Lunch</td>\n",
       "      <td>All Beef Hot Dog; XXX Hot Dog Rolls; White Ame...</td>\n",
       "    </tr>\n",
       "    <tr>\n",
       "      <th>11</th>\n",
       "      <td>2014-09-03</td>\n",
       "      <td>Dinner</td>\n",
       "      <td>XXX Vegetable Egg Roll; General Tso's Chicken;...</td>\n",
       "    </tr>\n",
       "    <tr>\n",
       "      <th>12</th>\n",
       "      <td>2014-09-04</td>\n",
       "      <td>Breakfast</td>\n",
       "      <td>XXX Bacon; Farmhouse Scramble; Cage Free Hard ...</td>\n",
       "    </tr>\n",
       "    <tr>\n",
       "      <th>13</th>\n",
       "      <td>2014-09-04</td>\n",
       "      <td>Lunch</td>\n",
       "      <td>Water Roll; Cole Slaw; Sweet Potato Fries; Pul...</td>\n",
       "    </tr>\n",
       "    <tr>\n",
       "      <th>14</th>\n",
       "      <td>2014-09-04</td>\n",
       "      <td>Dinner</td>\n",
       "      <td>Cous Cous Tfaya; Harissa and Honey Roasted Chi...</td>\n",
       "    </tr>\n",
       "    <tr>\n",
       "      <th>15</th>\n",
       "      <td>2014-09-05</td>\n",
       "      <td>Breakfast</td>\n",
       "      <td>Ancient Grain Hot Cereal; Uncured Bacon; Canad...</td>\n",
       "    </tr>\n",
       "    <tr>\n",
       "      <th>16</th>\n",
       "      <td>2014-09-05</td>\n",
       "      <td>Lunch</td>\n",
       "      <td>Garlic and Herb Breadsticks; Macaroni and Chee...</td>\n",
       "    </tr>\n",
       "    <tr>\n",
       "      <th>17</th>\n",
       "      <td>2014-09-05</td>\n",
       "      <td>Dinner</td>\n",
       "      <td>Blackened Catfish; Jambalaya; Steamed Summer S...</td>\n",
       "    </tr>\n",
       "    <tr>\n",
       "      <th>18</th>\n",
       "      <td>2014-09-06</td>\n",
       "      <td>Breakfast</td>\n",
       "      <td>XXX Bacon; Strawberries; Cage Free Hard Boiled...</td>\n",
       "    </tr>\n",
       "    <tr>\n",
       "      <th>19</th>\n",
       "      <td>2014-09-06</td>\n",
       "      <td>Lunch</td>\n",
       "      <td>Chicken Parmesan; Chicken Parmesan Hoagie; Cap...</td>\n",
       "    </tr>\n",
       "  </tbody>\n",
       "</table>\n",
       "</div>"
      ],
      "text/plain": [
       "          date       type                                        traditional\n",
       "0   2014-08-31  Breakfast  XXX Bacon; Cage Free Fried Egg; XXX Fresh Frui...\n",
       "1   2014-08-31      Lunch  Apple Cranberry Chutney; Steamed Broccoli; Cag...\n",
       "2   2014-08-31     Dinner  Delmonico Potatoes; Salmon; Gratin of Seasonal...\n",
       "3   2014-09-01  Breakfast  XXX Bacon; French Dipped Waffles; Cage Free Fr...\n",
       "4   2014-09-01      Lunch  Garlic and Herb Breadsticks; Steamed Broccoli;...\n",
       "5   2014-09-01     Dinner  Beef Fajita Filling; Black Bean Frijoles; Tort...\n",
       "6   2014-09-02  Breakfast  XXX Bacon; Grilled Kielbasa; Cage Free Hard Bo...\n",
       "7   2014-09-02      Lunch          Asian Slaw; XXX Bulgogi (Korean BBQ Beef)\n",
       "8   2014-09-02     Dinner  Grilled Flank Steak; Mediterranean Potatoes; P...\n",
       "9   2014-09-03  Breakfast  XXX Bacon; French Toast; Cage Free Fried Egg; ...\n",
       "10  2014-09-03      Lunch  All Beef Hot Dog; XXX Hot Dog Rolls; White Ame...\n",
       "11  2014-09-03     Dinner  XXX Vegetable Egg Roll; General Tso's Chicken;...\n",
       "12  2014-09-04  Breakfast  XXX Bacon; Farmhouse Scramble; Cage Free Hard ...\n",
       "13  2014-09-04      Lunch  Water Roll; Cole Slaw; Sweet Potato Fries; Pul...\n",
       "14  2014-09-04     Dinner  Cous Cous Tfaya; Harissa and Honey Roasted Chi...\n",
       "15  2014-09-05  Breakfast  Ancient Grain Hot Cereal; Uncured Bacon; Canad...\n",
       "16  2014-09-05      Lunch  Garlic and Herb Breadsticks; Macaroni and Chee...\n",
       "17  2014-09-05     Dinner  Blackened Catfish; Jambalaya; Steamed Summer S...\n",
       "18  2014-09-06  Breakfast  XXX Bacon; Strawberries; Cage Free Hard Boiled...\n",
       "19  2014-09-06      Lunch  Chicken Parmesan; Chicken Parmesan Hoagie; Cap..."
      ]
     },
     "execution_count": 6,
     "metadata": {},
     "output_type": "execute_result"
    }
   ],
   "source": [
    "df.head(20)"
   ]
  },
  {
   "cell_type": "code",
   "execution_count": 5,
   "metadata": {
    "scrolled": true
   },
   "outputs": [
    {
     "data": {
      "text/html": [
       "<div>\n",
       "<style>\n",
       "    .dataframe thead tr:only-child th {\n",
       "        text-align: right;\n",
       "    }\n",
       "\n",
       "    .dataframe thead th {\n",
       "        text-align: left;\n",
       "    }\n",
       "\n",
       "    .dataframe tbody tr th {\n",
       "        vertical-align: top;\n",
       "    }\n",
       "</style>\n",
       "<table border=\"1\" class=\"dataframe\">\n",
       "  <thead>\n",
       "    <tr style=\"text-align: right;\">\n",
       "      <th></th>\n",
       "      <th>date</th>\n",
       "      <th>type</th>\n",
       "      <th>traditional</th>\n",
       "    </tr>\n",
       "  </thead>\n",
       "  <tbody>\n",
       "    <tr>\n",
       "      <th>count</th>\n",
       "      <td>3525</td>\n",
       "      <td>3525</td>\n",
       "      <td>3525</td>\n",
       "    </tr>\n",
       "    <tr>\n",
       "      <th>unique</th>\n",
       "      <td>1175</td>\n",
       "      <td>3</td>\n",
       "      <td>941</td>\n",
       "    </tr>\n",
       "    <tr>\n",
       "      <th>top</th>\n",
       "      <td>2016-06-19</td>\n",
       "      <td>Breakfast</td>\n",
       "      <td></td>\n",
       "    </tr>\n",
       "    <tr>\n",
       "      <th>freq</th>\n",
       "      <td>3</td>\n",
       "      <td>1175</td>\n",
       "      <td>264</td>\n",
       "    </tr>\n",
       "  </tbody>\n",
       "</table>\n",
       "</div>"
      ],
      "text/plain": [
       "              date       type traditional\n",
       "count         3525       3525        3525\n",
       "unique        1175          3         941\n",
       "top     2016-06-19  Breakfast            \n",
       "freq             3       1175         264"
      ]
     },
     "execution_count": 5,
     "metadata": {},
     "output_type": "execute_result"
    }
   ],
   "source": [
    "df.describe()"
   ]
  },
  {
   "cell_type": "code",
   "execution_count": 7,
   "metadata": {
    "collapsed": true
   },
   "outputs": [],
   "source": [
    "meals_only = pd.DataFrame(df['traditional'])"
   ]
  },
  {
   "cell_type": "markdown",
   "metadata": {},
   "source": [
    "## FUZZY STRING MATCHING"
   ]
  },
  {
   "cell_type": "code",
   "execution_count": 8,
   "metadata": {
    "collapsed": true
   },
   "outputs": [],
   "source": [
    "# # dists is generated using pdist function from scikit learn, takes a while so saved it to file\n",
    "# # To reproduce run the below code\n",
    "# dists = pdist(meals_only, fuzz.token_sort_ratio)\n",
    "\n",
    "# # Used to cache the dists calculations\n",
    "# with open('dist_full.pkl','wb') as output:\n",
    "#     pkl.dump(dists, output)\n",
    "\n",
    "with open('dist_full.pkl', 'rb') as cached:\n",
    "    dists = pkl.load(cached)"
   ]
  },
  {
   "cell_type": "markdown",
   "metadata": {},
   "source": [
    "### Distribution of pairwise string matching scores"
   ]
  },
  {
   "cell_type": "code",
   "execution_count": 9,
   "metadata": {
    "scrolled": true
   },
   "outputs": [
    {
     "data": {
      "image/png": "[encoded data removed]",
      "text/plain": [
       "<matplotlib.figure.Figure at 0x111ccfda0>"
      ]
     },
     "metadata": {},
     "output_type": "display_data"
    }
   ],
   "source": [
    "sns.distplot(dists)\n",
    "plt.show()"
   ]
  },
  {
   "cell_type": "markdown",
   "metadata": {},
   "source": [
    "## Tuning the Threshold Considered a Match"
   ]
  },
  {
   "cell_type": "code",
   "execution_count": 73,
   "metadata": {
    "scrolled": true
   },
   "outputs": [
    {
     "name": "stdout",
     "output_type": "stream",
     "text": [
      "Tuned for threshold: 65, with groups: 57\n",
      "Tuned for threshold: 66, with groups: 63\n",
      "Tuned for threshold: 67, with groups: 70\n",
      "Tuned for threshold: 68, with groups: 74\n",
      "Tuned for threshold: 69, with groups: 80\n"
     ]
    }
   ],
   "source": [
    "##Used this code to see how different thresholds would group the meals. To reproduce, execute below\n",
    "##otherwise load in pkl file\n",
    "\n",
    "parameter_tuning = {}\n",
    "mat = squareform(dists)\n",
    "parameter_tuning['dists'] = dists\n",
    "parameter_tuning['mat'] = mat\n",
    "parameter_tuning['test_thresholds'] = range(65,70,1)\n",
    "for i in range(65,70,1):\n",
    "    thresh = buildThreshholdMatrix(mat, i)\n",
    "    groups = categorizeIntoClusters(thresh)\n",
    "    num = len(groups)\n",
    "    parameter_tuning[i] = {}\n",
    "    parameter_tuning[i]['thresh'] = thresh\n",
    "    parameter_tuning[i]['groups'] = groups\n",
    "    parameter_tuning[i]['num'] = num\n",
    "    print('Tuned for threshold: {}, with groups: {}'.format(i, num))\n",
    "\n",
    "with open('parameter_tuning2.pkl','wb') as file:\n",
    "    pkl.dump(parameter_tuning, file)\n",
    "\n",
    "# with open('parameter_tuning.pkl', 'rb') as cached:\n",
    "#     parameter_tuning = pkl.load(cached)"
   ]
  },
  {
   "cell_type": "code",
   "execution_count": 76,
   "metadata": {
    "collapsed": true,
    "scrolled": false
   },
   "outputs": [],
   "source": [
    "df2 = df.copy()\n",
    "clusters = []\n",
    "for i in parameter_tuning['test_thresholds']:\n",
    "    df2 = addGroupsToDF(df2, parameter_tuning[i]['groups'], i)\n",
    "    clusters.append(getClusterName(i))"
   ]
  },
  {
   "cell_type": "code",
   "execution_count": 77,
   "metadata": {
    "scrolled": false
   },
   "outputs": [
    {
     "data": {
      "text/html": [
       "<div>\n",
       "<style>\n",
       "    .dataframe thead tr:only-child th {\n",
       "        text-align: right;\n",
       "    }\n",
       "\n",
       "    .dataframe thead th {\n",
       "        text-align: left;\n",
       "    }\n",
       "\n",
       "    .dataframe tbody tr th {\n",
       "        vertical-align: top;\n",
       "    }\n",
       "</style>\n",
       "<table border=\"1\" class=\"dataframe\">\n",
       "  <thead>\n",
       "    <tr style=\"text-align: right;\">\n",
       "      <th></th>\n",
       "      <th>date</th>\n",
       "      <th>type</th>\n",
       "      <th>traditional</th>\n",
       "      <th>cluster_t65</th>\n",
       "      <th>cluster_t66</th>\n",
       "      <th>cluster_t67</th>\n",
       "      <th>cluster_t68</th>\n",
       "      <th>cluster_t69</th>\n",
       "    </tr>\n",
       "  </thead>\n",
       "  <tbody>\n",
       "    <tr>\n",
       "      <th>0</th>\n",
       "      <td>2014-08-31</td>\n",
       "      <td>Breakfast</td>\n",
       "      <td>XXX Bacon; Cage Free Fried Egg; XXX Fresh Frui...</td>\n",
       "      <td>0</td>\n",
       "      <td>0</td>\n",
       "      <td>0</td>\n",
       "      <td>0</td>\n",
       "      <td>0</td>\n",
       "    </tr>\n",
       "    <tr>\n",
       "      <th>1</th>\n",
       "      <td>2014-08-31</td>\n",
       "      <td>Lunch</td>\n",
       "      <td>Apple Cranberry Chutney; Steamed Broccoli; Cag...</td>\n",
       "      <td>0</td>\n",
       "      <td>0</td>\n",
       "      <td>0</td>\n",
       "      <td>0</td>\n",
       "      <td>0</td>\n",
       "    </tr>\n",
       "    <tr>\n",
       "      <th>2</th>\n",
       "      <td>2014-08-31</td>\n",
       "      <td>Dinner</td>\n",
       "      <td>Delmonico Potatoes; Salmon; Gratin of Seasonal...</td>\n",
       "      <td>18</td>\n",
       "      <td>18</td>\n",
       "      <td>18</td>\n",
       "      <td>17</td>\n",
       "      <td>17</td>\n",
       "    </tr>\n",
       "    <tr>\n",
       "      <th>3</th>\n",
       "      <td>2014-09-01</td>\n",
       "      <td>Breakfast</td>\n",
       "      <td>XXX Bacon; French Dipped Waffles; Cage Free Fr...</td>\n",
       "      <td>0</td>\n",
       "      <td>0</td>\n",
       "      <td>0</td>\n",
       "      <td>0</td>\n",
       "      <td>0</td>\n",
       "    </tr>\n",
       "    <tr>\n",
       "      <th>4</th>\n",
       "      <td>2014-09-01</td>\n",
       "      <td>Lunch</td>\n",
       "      <td>Garlic and Herb Breadsticks; Steamed Broccoli;...</td>\n",
       "      <td>23</td>\n",
       "      <td>23</td>\n",
       "      <td>23</td>\n",
       "      <td>23</td>\n",
       "      <td>24</td>\n",
       "    </tr>\n",
       "  </tbody>\n",
       "</table>\n",
       "</div>"
      ],
      "text/plain": [
       "         date       type                                        traditional  \\\n",
       "0  2014-08-31  Breakfast  XXX Bacon; Cage Free Fried Egg; XXX Fresh Frui...   \n",
       "1  2014-08-31      Lunch  Apple Cranberry Chutney; Steamed Broccoli; Cag...   \n",
       "2  2014-08-31     Dinner  Delmonico Potatoes; Salmon; Gratin of Seasonal...   \n",
       "3  2014-09-01  Breakfast  XXX Bacon; French Dipped Waffles; Cage Free Fr...   \n",
       "4  2014-09-01      Lunch  Garlic and Herb Breadsticks; Steamed Broccoli;...   \n",
       "\n",
       "   cluster_t65  cluster_t66  cluster_t67  cluster_t68  cluster_t69  \n",
       "0            0            0            0            0            0  \n",
       "1            0            0            0            0            0  \n",
       "2           18           18           18           17           17  \n",
       "3            0            0            0            0            0  \n",
       "4           23           23           23           23           24  "
      ]
     },
     "execution_count": 77,
     "metadata": {},
     "output_type": "execute_result"
    }
   ],
   "source": [
    "df2.head()"
   ]
  },
  {
   "cell_type": "code",
   "execution_count": 78,
   "metadata": {},
   "outputs": [
    {
     "name": "stderr",
     "output_type": "stream",
     "text": [
      "/Users/Alex/anaconda2/envs/python3/lib/python3.6/site-packages/ipykernel_launcher.py:122: SettingWithCopyWarning: \n",
      "A value is trying to be set on a copy of a slice from a DataFrame.\n",
      "Try using .loc[row_indexer,col_indexer] = value instead\n",
      "\n",
      "See the caveats in the documentation: http://pandas.pydata.org/pandas-docs/stable/indexing.html#indexing-view-versus-copy\n"
     ]
    }
   ],
   "source": [
    "df3 = df2.copy()\n",
    "for cluster in clusters:\n",
    "    df3 = tagDF(df3, cluster)"
   ]
  },
  {
   "cell_type": "code",
   "execution_count": 79,
   "metadata": {
    "scrolled": false
   },
   "outputs": [
    {
     "data": {
      "text/html": [
       "<div>\n",
       "<style>\n",
       "    .dataframe thead tr:only-child th {\n",
       "        text-align: right;\n",
       "    }\n",
       "\n",
       "    .dataframe thead th {\n",
       "        text-align: left;\n",
       "    }\n",
       "\n",
       "    .dataframe tbody tr th {\n",
       "        vertical-align: top;\n",
       "    }\n",
       "</style>\n",
       "<table border=\"1\" class=\"dataframe\">\n",
       "  <thead>\n",
       "    <tr style=\"text-align: right;\">\n",
       "      <th></th>\n",
       "      <th>date</th>\n",
       "      <th>type</th>\n",
       "      <th>traditional</th>\n",
       "      <th>cluster_t65</th>\n",
       "      <th>cluster_t66</th>\n",
       "      <th>cluster_t67</th>\n",
       "      <th>cluster_t68</th>\n",
       "      <th>cluster_t69</th>\n",
       "      <th>tag_cluster_t65</th>\n",
       "      <th>tag_cluster_t66</th>\n",
       "      <th>tag_cluster_t67</th>\n",
       "      <th>tag_cluster_t68</th>\n",
       "      <th>tag_cluster_t69</th>\n",
       "    </tr>\n",
       "  </thead>\n",
       "  <tbody>\n",
       "    <tr>\n",
       "      <th>0</th>\n",
       "      <td>2014-08-31</td>\n",
       "      <td>Breakfast</td>\n",
       "      <td>XXX Bacon; Cage Free Fried Egg; XXX Fresh Frui...</td>\n",
       "      <td>0</td>\n",
       "      <td>0</td>\n",
       "      <td>0</td>\n",
       "      <td>0</td>\n",
       "      <td>0</td>\n",
       "      <td>free cage egg; scrambled bacon; hard boiled</td>\n",
       "      <td>free cage egg; scrambled bacon; boiled hard</td>\n",
       "      <td>free cage egg; scrambled bacon; boiled hard</td>\n",
       "      <td>free cage egg; scrambled bacon; hard boiled</td>\n",
       "      <td>cage free egg; scrambled bacon; hard boiled</td>\n",
       "    </tr>\n",
       "    <tr>\n",
       "      <th>1</th>\n",
       "      <td>2014-08-31</td>\n",
       "      <td>Lunch</td>\n",
       "      <td>Apple Cranberry Chutney; Steamed Broccoli; Cag...</td>\n",
       "      <td>0</td>\n",
       "      <td>0</td>\n",
       "      <td>0</td>\n",
       "      <td>0</td>\n",
       "      <td>0</td>\n",
       "      <td>free cage egg; scrambled bacon; hard boiled</td>\n",
       "      <td>free cage egg; scrambled bacon; boiled hard</td>\n",
       "      <td>free cage egg; scrambled bacon; boiled hard</td>\n",
       "      <td>free cage egg; scrambled bacon; hard boiled</td>\n",
       "      <td>cage free egg; scrambled bacon; hard boiled</td>\n",
       "    </tr>\n",
       "    <tr>\n",
       "      <th>2</th>\n",
       "      <td>2014-08-31</td>\n",
       "      <td>Dinner</td>\n",
       "      <td>Delmonico Potatoes; Salmon; Gratin of Seasonal...</td>\n",
       "      <td>18</td>\n",
       "      <td>18</td>\n",
       "      <td>18</td>\n",
       "      <td>17</td>\n",
       "      <td>17</td>\n",
       "      <td>delmonico salmon; seasonal gratin of vegetables;</td>\n",
       "      <td>delmonico salmon; seasonal gratin of vegetables;</td>\n",
       "      <td>delmonico salmon; seasonal gratin of vegetables;</td>\n",
       "      <td>delmonico salmon; seasonal gratin of vegetables;</td>\n",
       "      <td>delmonico salmon; seasonal gratin of vegetables;</td>\n",
       "    </tr>\n",
       "    <tr>\n",
       "      <th>3</th>\n",
       "      <td>2014-09-01</td>\n",
       "      <td>Breakfast</td>\n",
       "      <td>XXX Bacon; French Dipped Waffles; Cage Free Fr...</td>\n",
       "      <td>0</td>\n",
       "      <td>0</td>\n",
       "      <td>0</td>\n",
       "      <td>0</td>\n",
       "      <td>0</td>\n",
       "      <td>free cage egg; scrambled bacon; hard boiled</td>\n",
       "      <td>free cage egg; scrambled bacon; boiled hard</td>\n",
       "      <td>free cage egg; scrambled bacon; boiled hard</td>\n",
       "      <td>free cage egg; scrambled bacon; hard boiled</td>\n",
       "      <td>cage free egg; scrambled bacon; hard boiled</td>\n",
       "    </tr>\n",
       "    <tr>\n",
       "      <th>4</th>\n",
       "      <td>2014-09-01</td>\n",
       "      <td>Lunch</td>\n",
       "      <td>Garlic and Herb Breadsticks; Steamed Broccoli;...</td>\n",
       "      <td>23</td>\n",
       "      <td>23</td>\n",
       "      <td>23</td>\n",
       "      <td>23</td>\n",
       "      <td>24</td>\n",
       "      <td>steamed broccoli herb and garlic chicken</td>\n",
       "      <td>chicken herb and broccoli steamed garlic</td>\n",
       "      <td>chicken herb and broccoli steamed garlic</td>\n",
       "      <td>chicken herb and broccoli steamed garlic</td>\n",
       "      <td>chicken herb and broccoli steamed garlic</td>\n",
       "    </tr>\n",
       "  </tbody>\n",
       "</table>\n",
       "</div>"
      ],
      "text/plain": [
       "         date       type                                        traditional  \\\n",
       "0  2014-08-31  Breakfast  XXX Bacon; Cage Free Fried Egg; XXX Fresh Frui...   \n",
       "1  2014-08-31      Lunch  Apple Cranberry Chutney; Steamed Broccoli; Cag...   \n",
       "2  2014-08-31     Dinner  Delmonico Potatoes; Salmon; Gratin of Seasonal...   \n",
       "3  2014-09-01  Breakfast  XXX Bacon; French Dipped Waffles; Cage Free Fr...   \n",
       "4  2014-09-01      Lunch  Garlic and Herb Breadsticks; Steamed Broccoli;...   \n",
       "\n",
       "   cluster_t65  cluster_t66  cluster_t67  cluster_t68  cluster_t69  \\\n",
       "0            0            0            0            0            0   \n",
       "1            0            0            0            0            0   \n",
       "2           18           18           18           17           17   \n",
       "3            0            0            0            0            0   \n",
       "4           23           23           23           23           24   \n",
       "\n",
       "                                     tag_cluster_t65  \\\n",
       "0        free cage egg; scrambled bacon; hard boiled   \n",
       "1        free cage egg; scrambled bacon; hard boiled   \n",
       "2   delmonico salmon; seasonal gratin of vegetables;   \n",
       "3        free cage egg; scrambled bacon; hard boiled   \n",
       "4           steamed broccoli herb and garlic chicken   \n",
       "\n",
       "                                     tag_cluster_t66  \\\n",
       "0        free cage egg; scrambled bacon; boiled hard   \n",
       "1        free cage egg; scrambled bacon; boiled hard   \n",
       "2   delmonico salmon; seasonal gratin of vegetables;   \n",
       "3        free cage egg; scrambled bacon; boiled hard   \n",
       "4           chicken herb and broccoli steamed garlic   \n",
       "\n",
       "                                     tag_cluster_t67  \\\n",
       "0        free cage egg; scrambled bacon; boiled hard   \n",
       "1        free cage egg; scrambled bacon; boiled hard   \n",
       "2   delmonico salmon; seasonal gratin of vegetables;   \n",
       "3        free cage egg; scrambled bacon; boiled hard   \n",
       "4           chicken herb and broccoli steamed garlic   \n",
       "\n",
       "                                     tag_cluster_t68  \\\n",
       "0        free cage egg; scrambled bacon; hard boiled   \n",
       "1        free cage egg; scrambled bacon; hard boiled   \n",
       "2   delmonico salmon; seasonal gratin of vegetables;   \n",
       "3        free cage egg; scrambled bacon; hard boiled   \n",
       "4           chicken herb and broccoli steamed garlic   \n",
       "\n",
       "                                     tag_cluster_t69  \n",
       "0        cage free egg; scrambled bacon; hard boiled  \n",
       "1        cage free egg; scrambled bacon; hard boiled  \n",
       "2   delmonico salmon; seasonal gratin of vegetables;  \n",
       "3        cage free egg; scrambled bacon; hard boiled  \n",
       "4           chicken herb and broccoli steamed garlic  "
      ]
     },
     "execution_count": 79,
     "metadata": {},
     "output_type": "execute_result"
    }
   ],
   "source": [
    "df3.head()"
   ]
  },
  {
   "cell_type": "code",
   "execution_count": 80,
   "metadata": {
    "collapsed": true
   },
   "outputs": [],
   "source": [
    "with open('val_clustered_65_70.csv', 'w+') as file:\n",
    "    df3.to_csv(file)"
   ]
  },
  {
   "cell_type": "code",
   "execution_count": 1,
   "metadata": {
    "collapsed": true
   },
   "outputs": [],
   "source": [
    "import numpy as np\n",
    "\n",
    "from sklearn.cluster import DBSCAN\n",
    "from sklearn import metrics\n",
    "from sklearn.datasets.samples_generator import make_blobs\n",
    "from sklearn.preprocessing import StandardScaler"
   ]
  },
  {
   "cell_type": "code",
   "execution_count": 14,
   "metadata": {
    "collapsed": true
   },
   "outputs": [],
   "source": [
    "centers = [[1, 1], [-1, -1], [1, -1]]\n",
    "X, labels_true = make_blobs(n_samples=750, centers=centers, cluster_std=0.4,\n",
    "                            random_state=0)"
   ]
  },
  {
   "cell_type": "code",
   "execution_count": 15,
   "metadata": {},
   "outputs": [
    {
     "data": {
      "text/plain": [
       "array([[ 0.84022039,  1.14802236],\n",
       "       [-1.15474834, -1.2041171 ],\n",
       "       [ 0.67863613,  0.72418009],\n",
       "       ..., \n",
       "       [ 0.26798858, -1.27833405],\n",
       "       [-0.88628813, -0.30293249],\n",
       "       [ 0.60046048, -1.29605472]])"
      ]
     },
     "execution_count": 15,
     "metadata": {},
     "output_type": "execute_result"
    }
   ],
   "source": [
    "X"
   ]
  },
  {
   "cell_type": "code",
   "execution_count": 18,
   "metadata": {
    "collapsed": true
   },
   "outputs": [],
   "source": [
    "X = StandardScaler().fit_transform(X)"
   ]
  },
  {
   "cell_type": "code",
   "execution_count": 19,
   "metadata": {},
   "outputs": [
    {
     "data": {
      "text/plain": [
       "array([[ 0.49426097,  1.45106697],\n",
       "       [-1.42808099, -0.83706377],\n",
       "       [ 0.33855918,  1.03875871],\n",
       "       ..., \n",
       "       [-0.05713876, -0.90926105],\n",
       "       [-1.16939407,  0.03959692],\n",
       "       [ 0.26322951, -0.92649949]])"
      ]
     },
     "execution_count": 19,
     "metadata": {},
     "output_type": "execute_result"
    }
   ],
   "source": [
    "X"
   ]
  },
  {
   "cell_type": "code",
   "execution_count": 28,
   "metadata": {
    "collapsed": true
   },
   "outputs": [],
   "source": [
    "mat = squareform(dists)"
   ]
  },
  {
   "cell_type": "code",
   "execution_count": 29,
   "metadata": {},
   "outputs": [
    {
     "data": {
      "text/plain": [
       "array([[  0.,  60.,  31., ...,  59.,  43.,  42.],\n",
       "       [ 60.,   0.,  38., ...,  55.,  44.,  45.],\n",
       "       [ 31.,  38.,   0., ...,  32.,  42.,  41.],\n",
       "       ..., \n",
       "       [ 59.,  55.,  32., ...,   0.,  35.,  40.],\n",
       "       [ 43.,  44.,  42., ...,  35.,   0.,  48.],\n",
       "       [ 42.,  45.,  41., ...,  40.,  48.,   0.]])"
      ]
     },
     "execution_count": 29,
     "metadata": {},
     "output_type": "execute_result"
    }
   ],
   "source": [
    "mat"
   ]
  },
  {
   "cell_type": "code",
   "execution_count": 30,
   "metadata": {},
   "outputs": [],
   "source": [
    "mat2 = StandardScaler().fit_transform(mat)"
   ]
  },
  {
   "cell_type": "code",
   "execution_count": 32,
   "metadata": {},
   "outputs": [],
   "source": [
    "mat3 = mat/100"
   ]
  },
  {
   "cell_type": "code",
   "execution_count": 33,
   "metadata": {},
   "outputs": [
    {
     "data": {
      "text/plain": [
       "array([[ 0.  ,  0.6 ,  0.31, ...,  0.59,  0.43,  0.42],\n",
       "       [ 0.6 ,  0.  ,  0.38, ...,  0.55,  0.44,  0.45],\n",
       "       [ 0.31,  0.38,  0.  , ...,  0.32,  0.42,  0.41],\n",
       "       ..., \n",
       "       [ 0.59,  0.55,  0.32, ...,  0.  ,  0.35,  0.4 ],\n",
       "       [ 0.43,  0.44,  0.42, ...,  0.35,  0.  ,  0.48],\n",
       "       [ 0.42,  0.45,  0.41, ...,  0.4 ,  0.48,  0.  ]])"
      ]
     },
     "execution_count": 33,
     "metadata": {},
     "output_type": "execute_result"
    }
   ],
   "source": [
    "mat3"
   ]
  },
  {
   "cell_type": "code",
   "execution_count": 72,
   "metadata": {},
   "outputs": [
    {
     "name": "stdout",
     "output_type": "stream",
     "text": [
      "Estimated number of clusters: 1\n"
     ]
    }
   ],
   "source": [
    "db = DBSCAN(eps=0.1, min_samples=2, metric = 'precomputed').fit(mat3)\n",
    "labels = db.labels_\n",
    "# Number of clusters in labels, ignoring noise if present.\n",
    "n_clusters_ = len(set(labels)) - (1 if -1 in labels else 0)\n",
    "\n",
    "print('Estimated number of clusters: %d' % n_clusters_)"
   ]
  },
  {
   "cell_type": "code",
   "execution_count": 50,
   "metadata": {},
   "outputs": [
    {
     "name": "stdout",
     "output_type": "stream",
     "text": [
      "Estimated number of clusters: 0\n"
     ]
    }
   ],
   "source": []
  },
  {
   "cell_type": "code",
   "execution_count": 36,
   "metadata": {},
   "outputs": [
    {
     "data": {
      "text/plain": [
       "DBSCAN(algorithm='auto', eps=0.3, leaf_size=30, metric='euclidean',\n",
       "    metric_params=None, min_samples=10, n_jobs=1, p=None)"
      ]
     },
     "execution_count": 36,
     "metadata": {},
     "output_type": "execute_result"
    }
   ],
   "source": [
    "db"
   ]
  }
 ],
 "metadata": {
  "kernelspec": {
   "display_name": "Python 3",
   "language": "python",
   "name": "python3"
  },
  "language_info": {
   "codemirror_mode": {
    "name": "ipython",
    "version": 3
   },
   "file_extension": ".py",
   "mimetype": "text/x-python",
   "name": "python",
   "nbconvert_exporter": "python",
   "pygments_lexer": "ipython3",
   "version": "3.6.3"
  }
 },
 "nbformat": 4,
 "nbformat_minor": 1
}
